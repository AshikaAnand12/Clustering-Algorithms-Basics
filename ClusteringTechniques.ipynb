{
  "nbformat": 4,
  "nbformat_minor": 0,
  "metadata": {
    "colab": {
      "name": "ClusteringTechniques.ipynb",
      "provenance": [],
      "authorship_tag": "ABX9TyOnWP6sn3bO3lxA9UNX33Hm",
      "include_colab_link": true
    },
    "kernelspec": {
      "name": "python3",
      "display_name": "Python 3"
    },
    "language_info": {
      "name": "python"
    }
  },
  "cells": [
    {
      "cell_type": "markdown",
      "metadata": {
        "id": "view-in-github",
        "colab_type": "text"
      },
      "source": [
        "<a href=\"https://colab.research.google.com/github/AshikaAnand12/clustering/blob/main/ClusteringTechniques.ipynb\" target=\"_parent\"><img src=\"https://colab.research.google.com/assets/colab-badge.svg\" alt=\"Open In Colab\"/></a>"
      ]
    },
    {
      "cell_type": "markdown",
      "metadata": {
        "id": "45P0gBrmRbb3"
      },
      "source": [
        "# K Means "
      ]
    },
    {
      "cell_type": "code",
      "metadata": {
        "colab": {
          "base_uri": "https://localhost:8080/",
          "height": 264
        },
        "id": "Auea5Y0kRM-8",
        "outputId": "44990084-c19a-4c8e-ad7d-b6c0cc92139c"
      },
      "source": [
        "import matplotlib.pyplot as plt\n",
        "import numpy as np\n",
        "from sklearn.cluster import KMeans\n",
        "#Creating a dataset and plotting\n",
        "X = np.array([[3,5],[3,4],[5,6],[2,6],[4,5],[6,8],[6,2],[6,3],[5,6],[6,7],[7,2],[8,5],[9,1],[8,2],[9,6],[9,1],[8,3]])\n",
        "\n",
        "plt.scatter(X[:,0],X[:,1], label='True Position')\n",
        "plt.show()"
      ],
      "execution_count": null,
      "outputs": [
        {
          "output_type": "display_data",
          "data": {
            "image/png": "[encoded data removed]",
            "text/plain": [
              "<Figure size 432x288 with 1 Axes>"
            ]
          },
          "metadata": {
            "needs_background": "light"
          }
        }
      ]
    },
    {
      "cell_type": "code",
      "metadata": {
        "colab": {
          "base_uri": "https://localhost:8080/",
          "height": 264
        },
        "id": "K3p2XKA_RgEN",
        "outputId": "3632e769-df23-4f89-b67c-aa0e533f953d"
      },
      "source": [
        "#Clustering dataset into 2 groups (k=2)\n",
        "kmeans = KMeans(n_clusters=2)\n",
        "kmeans.fit(X)\n",
        "plt.scatter(X[:,0],X[:,1], c=kmeans.labels_, cmap='rainbow')\n",
        "plt.show()"
      ],
      "execution_count": null,
      "outputs": [
        {
          "output_type": "display_data",
          "data": {
            "image/png": "[encoded data removed]",
            "text/plain": [
              "<Figure size 432x288 with 1 Axes>"
            ]
          },
          "metadata": {
            "needs_background": "light"
          }
        }
      ]
    },
    {
      "cell_type": "markdown",
      "metadata": {
        "id": "m8QVHgSNRq0u"
      },
      "source": [
        "# Heirarchial Clustering"
      ]
    },
    {
      "cell_type": "code",
      "metadata": {
        "colab": {
          "base_uri": "https://localhost:8080/"
        },
        "id": "hrBXxxgVRpu_",
        "outputId": "56250104-071c-446a-cbf0-c448be67e758"
      },
      "source": [
        "from sklearn.cluster import AgglomerativeClustering\n",
        "clustering = AgglomerativeClustering().fit(X)"
      ],
      "execution_count": null,
      "outputs": [
        {
          "output_type": "stream",
          "name": "stdout",
          "text": [
            "AgglomerativeClustering()\n"
          ]
        }
      ]
    },
    {
      "cell_type": "code",
      "metadata": {
        "colab": {
          "base_uri": "https://localhost:8080/",
          "height": 264
        },
        "id": "Ir1YIWJCSxdR",
        "outputId": "9983097d-73d6-494e-c256-408b6d3dfea9"
      },
      "source": [
        "plt.scatter(X[:,0],X[:,1], c=clustering.labels_, cmap='rainbow')\n",
        "plt.show()"
      ],
      "execution_count": null,
      "outputs": [
        {
          "output_type": "display_data",
          "data": {
            "image/png": "[encoded data removed]",
            "text/plain": [
              "<Figure size 432x288 with 1 Axes>"
            ]
          },
          "metadata": {
            "needs_background": "light"
          }
        }
      ]
    },
    {
      "cell_type": "markdown",
      "metadata": {
        "id": "mdvW4Ip7TQUb"
      },
      "source": [
        "# Gaussian mixture models clustering"
      ]
    },
    {
      "cell_type": "code",
      "metadata": {
        "id": "wlf0xoGnS_5U"
      },
      "source": [
        "from sklearn.mixture import GaussianMixture\n",
        "gm = GaussianMixture(n_components=2, random_state=0).fit(X)\n",
        "labels = gm.predict(X)"
      ],
      "execution_count": null,
      "outputs": []
    },
    {
      "cell_type": "code",
      "metadata": {
        "colab": {
          "base_uri": "https://localhost:8080/",
          "height": 264
        },
        "id": "qX622Eg4ToNg",
        "outputId": "02ebf621-cf03-44cf-e482-e4a07957bb69"
      },
      "source": [
        "plt.scatter(X[:, 0], X[:, 1], c=labels, s=40, cmap='rainbow')\n",
        "plt.show()"
      ],
      "execution_count": null,
      "outputs": [
        {
          "output_type": "display_data",
          "data": {
            "image/png": "[encoded data removed]",
            "text/plain": [
              "<Figure size 432x288 with 1 Axes>"
            ]
          },
          "metadata": {
            "needs_background": "light"
          }
        }
      ]
    },
    {
      "cell_type": "markdown",
      "metadata": {
        "id": "F5edKGW8UHWr"
      },
      "source": [
        "# DBSCAN clustering"
      ]
    },
    {
      "cell_type": "code",
      "metadata": {
        "id": "9-pZB4XhTq1e"
      },
      "source": [
        "from sklearn.cluster import DBSCAN\n",
        "X = np.array([[1, 2], [2, 2], [2, 3],[8, 7], [8, 8], [25, 80],[5,6],[6,7],[7,2],[8,5],[9,1],[8,2],[9,6],[9,1],[30,60]])\n",
        "cluster = DBSCAN(eps=3, min_samples=2).fit(X)"
      ],
      "execution_count": null,
      "outputs": []
    },
    {
      "cell_type": "code",
      "metadata": {
        "colab": {
          "base_uri": "https://localhost:8080/",
          "height": 264
        },
        "id": "kNQxk2vaUoYh",
        "outputId": "f7b389e0-f34b-4596-9665-4928bb49d35c"
      },
      "source": [
        "plt.scatter(X[:, 0], X[:, 1], c=cluster.labels_, s=40, cmap='rainbow')\n",
        "plt.show()"
      ],
      "execution_count": null,
      "outputs": [
        {
          "output_type": "display_data",
          "data": {
            "image/png": "[encoded data removed]",
            "text/plain": [
              "<Figure size 432x288 with 1 Axes>"
            ]
          },
          "metadata": {
            "needs_background": "light"
          }
        }
      ]
    },
    {
      "cell_type": "markdown",
      "metadata": {
        "id": "zCMAcoBBVLqe"
      },
      "source": [
        "# References\n",
        "\n",
        "1. https://scikit-learn.org/stable/modules/clustering.html\n",
        "2. https://scikit-learn.org/stable/modules/generated/sklearn.cluster.AgglomerativeClustering.html#sklearn.cluster.AgglomerativeClustering\n",
        "3. https://scikit-learn.org/stable/modules/generated/sklearn.mixture.GaussianMixture.html#sklearn.mixture.GaussianMixture\n",
        "4. https://scikit-learn.org/stable/modules/generated/sklearn.cluster.DBSCAN.html#sklearn.cluster.DBSCAN\n",
        "5. https://jakevdp.github.io/PythonDataScienceHandbook/05.12-gaussian-mixtures.html"
      ]
    }
  ]
}